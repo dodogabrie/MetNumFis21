{
 "cells": [
  {
   "cell_type": "code",
   "execution_count": 6,
   "id": "welcome-alexandria",
   "metadata": {},
   "outputs": [],
   "source": [
    "import numpy as np\n",
    "import matplotlib.pyplot as plt\n",
    "import time"
   ]
  },
  {
   "cell_type": "code",
   "execution_count": 61,
   "id": "lesbian-classroom",
   "metadata": {},
   "outputs": [],
   "source": [
    "#-------------------GEOMETRY-----------------#\n",
    "#per ogni coordinata definisco il passo in avanti o indietro\n",
    "#con le opportune condizioni al bordo\n",
    "\n",
    "def geometry(nlatt, nvol):\n",
    "    \n",
    "    npp = np.zeros(nlatt)\n",
    "    nmm = np.zeros(nlatt)\n",
    "    \n",
    "    for i in range(0,nlatt):\n",
    "        npp[i] = i + 1\n",
    "        nmm[i] = i - 1\n",
    "    \n",
    "    npp[-1] = 1\n",
    "    nmm[0] = nlatt\n",
    "    \n",
    "    return npp,nmm\n",
    "\n",
    "###da 0 a nlatt o da 1 a nlatt??###"
   ]
  },
  {
   "cell_type": "code",
   "execution_count": 62,
   "id": "anticipated-character",
   "metadata": {},
   "outputs": [],
   "source": [
    "#------------------LATTICE-----------------------#\n",
    "# assegno la configurazione di partenza della catena di Markov\n",
    "\n",
    "def initialize_lattice(nlatt, nvol, iflag ,seed, field_start):\n",
    "    \n",
    "    field = np.ones((nlatt,nlatt))\n",
    "    #PARTENZA A FREDDO (tutti gli spin a 1 come se fosse T = 0)\n",
    "    if iflag == 0 :\n",
    "        field = np.ones((nlatt,nlatt))\n",
    "    #... A CALDO ... (spin random, come se fosse T = infinito) \n",
    "    elif iflag ==1 :\n",
    "        for i in range(0, nlatt):\n",
    "            for j in range(0, nlatt):\n",
    "                x = np.random.random()\n",
    "                field[i][j] = 1\n",
    "                if x < 0.5 :\n",
    "                    field[i][j] = -1.0\n",
    "    #... O DA DOVE ERO RIMASTO L'ULTIMA VOLTA\n",
    "    else:\n",
    "        field = field_start\n",
    "        \n",
    "    return field"
   ]
  },
  {
   "cell_type": "code",
   "execution_count": 63,
   "id": "several-discipline",
   "metadata": {},
   "outputs": [],
   "source": [
    "#----------------MAGNETIZATION-----------------#\n",
    "#calcolo magnetizzazione media del reticolo\n",
    "\n",
    "def magnetization(nlatt, nvol, field):\n",
    "    \n",
    "    xmagn = np.sum(field)\n",
    "    xmagn = xmagn/nvol\n",
    "    \n",
    "    return xmagn"
   ]
  },
  {
   "cell_type": "code",
   "execution_count": 64,
   "id": "reserved-episode",
   "metadata": {},
   "outputs": [],
   "source": [
    "#-----------------ENERGY--------------------#\n",
    "#energia media (= 0 per configurazione ordinata e campo esterno 0)\n",
    "\n",
    "def energy(nlatt, nvol, field, npp, nmm, extfield):\n",
    "    \n",
    "    xene = 0.0\n",
    "    for i in range(0, nlatt):\n",
    "        for j in range(0, nlatt):\n",
    "            ip = npp[i]\n",
    "            im = nmm[i]\n",
    "            jp = npp[j]\n",
    "            jm = nmm[j]\n",
    "            \n",
    "            force = field[i][jp] + field[i][jm] + field[ip][j] + field[im][j]\n",
    "            xene = xene - 0.5 * force * field[i][j]\n",
    "            xene = xene - extfield*field[i][j]\n",
    "            \n",
    "    xene = xene/nvol\n",
    "    \n",
    "    return xene"
   ]
  },
  {
   "cell_type": "code",
   "execution_count": 65,
   "id": "horizontal-professor",
   "metadata": {},
   "outputs": [],
   "source": [
    "#---------------UPDATE METROPOLIS----------------#\n",
    "#faccio aggiornamenti locali delle variabili di spin con metropolis\n",
    "#la variabile di spin di prova e` sempre quella opposta a quella attuale\n",
    "\n",
    "def update_metropolis(nlatt, nvol, field, npp, nmm, beta, extfield, seed):\n",
    "    \n",
    "    for ivol in range(1, nlatt*nlatt):\n",
    "        i = int(np.random.random()*nlatt + 1.0)\n",
    "        j = int(np.random.random()*nlatt + 1.0)\n",
    "        \n",
    "        ip = npp[i]         \n",
    "        im = nmm[i]         \n",
    "        jp = npp[j]         \n",
    "        jm = nmm[j]\n",
    "        \n",
    "        force = field[i][jp] + field[i][jm] + field[ip][j] + field[im][j]\n",
    "        force = beta*(force + extfield)\n",
    "        \n",
    "        phi = field[i][j]\n",
    "        \n",
    "        p_rat = np.exp(-2*phi*force)\n",
    "        \n",
    "        x = np.random.random()\n",
    "        \n",
    "        if x < p_rat :\n",
    "            field[i][j] = -phi\n",
    "            \n",
    "    return field\n",
    "    "
   ]
  },
  {
   "cell_type": "code",
   "execution_count": 68,
   "id": "moderate-participation",
   "metadata": {},
   "outputs": [
    {
     "ename": "IndexError",
     "evalue": "only integers, slices (`:`), ellipsis (`...`), numpy.newaxis (`None`) and integer or boolean arrays are valid indices",
     "output_type": "error",
     "traceback": [
      "\u001b[0;31m---------------------------------------------------------------------------\u001b[0m",
      "\u001b[0;31mIndexError\u001b[0m                                Traceback (most recent call last)",
      "\u001b[0;32m<ipython-input-68-b356cb3a62af>\u001b[0m in \u001b[0;36m<module>\u001b[0;34m\u001b[0m\n\u001b[1;32m     18\u001b[0m \u001b[0;32mfor\u001b[0m \u001b[0mi\u001b[0m \u001b[0;32min\u001b[0m \u001b[0mrange\u001b[0m\u001b[0;34m(\u001b[0m\u001b[0mmeasures\u001b[0m\u001b[0;34m)\u001b[0m\u001b[0;34m:\u001b[0m\u001b[0;34m\u001b[0m\u001b[0;34m\u001b[0m\u001b[0m\n\u001b[1;32m     19\u001b[0m     \u001b[0;32mfor\u001b[0m \u001b[0midec\u001b[0m \u001b[0;32min\u001b[0m \u001b[0mrange\u001b[0m\u001b[0;34m(\u001b[0m\u001b[0mi_decorrel\u001b[0m\u001b[0;34m)\u001b[0m\u001b[0;34m:\u001b[0m\u001b[0;34m\u001b[0m\u001b[0;34m\u001b[0m\u001b[0m\n\u001b[0;32m---> 20\u001b[0;31m         \u001b[0mfield\u001b[0m \u001b[0;34m=\u001b[0m \u001b[0mupdate_metropolis\u001b[0m\u001b[0;34m(\u001b[0m\u001b[0mnlatt\u001b[0m\u001b[0;34m,\u001b[0m \u001b[0mnvol\u001b[0m\u001b[0;34m,\u001b[0m \u001b[0mfield\u001b[0m\u001b[0;34m,\u001b[0m \u001b[0mnpp\u001b[0m\u001b[0;34m,\u001b[0m \u001b[0mnmm\u001b[0m\u001b[0;34m,\u001b[0m \u001b[0mbeta\u001b[0m\u001b[0;34m,\u001b[0m \u001b[0mextfield\u001b[0m\u001b[0;34m,\u001b[0m \u001b[0mseed\u001b[0m\u001b[0;34m)\u001b[0m\u001b[0;34m\u001b[0m\u001b[0;34m\u001b[0m\u001b[0m\n\u001b[0m\u001b[1;32m     21\u001b[0m         \u001b[0midec\u001b[0m \u001b[0;34m=\u001b[0m \u001b[0midec\u001b[0m \u001b[0;34m+\u001b[0m \u001b[0;36m1\u001b[0m\u001b[0;34m\u001b[0m\u001b[0;34m\u001b[0m\u001b[0m\n\u001b[1;32m     22\u001b[0m     \u001b[0mxmagn\u001b[0m \u001b[0;34m=\u001b[0m \u001b[0mmagnetization\u001b[0m\u001b[0;34m(\u001b[0m\u001b[0mnlatt\u001b[0m\u001b[0;34m,\u001b[0m \u001b[0mnvol\u001b[0m\u001b[0;34m,\u001b[0m \u001b[0mfield\u001b[0m\u001b[0;34m)\u001b[0m\u001b[0;34m\u001b[0m\u001b[0;34m\u001b[0m\u001b[0m\n",
      "\u001b[0;32m<ipython-input-65-6a62a5d5b265>\u001b[0m in \u001b[0;36mupdate_metropolis\u001b[0;34m(nlatt, nvol, field, npp, nmm, beta, extfield, seed)\u001b[0m\n\u001b[1;32m     14\u001b[0m         \u001b[0mjm\u001b[0m \u001b[0;34m=\u001b[0m \u001b[0mnmm\u001b[0m\u001b[0;34m[\u001b[0m\u001b[0mj\u001b[0m\u001b[0;34m]\u001b[0m\u001b[0;34m\u001b[0m\u001b[0;34m\u001b[0m\u001b[0m\n\u001b[1;32m     15\u001b[0m \u001b[0;34m\u001b[0m\u001b[0m\n\u001b[0;32m---> 16\u001b[0;31m         \u001b[0mforce\u001b[0m \u001b[0;34m=\u001b[0m \u001b[0mfield\u001b[0m\u001b[0;34m[\u001b[0m\u001b[0mi\u001b[0m\u001b[0;34m]\u001b[0m\u001b[0;34m[\u001b[0m\u001b[0mjp\u001b[0m\u001b[0;34m]\u001b[0m \u001b[0;34m+\u001b[0m \u001b[0mfield\u001b[0m\u001b[0;34m[\u001b[0m\u001b[0mi\u001b[0m\u001b[0;34m]\u001b[0m\u001b[0;34m[\u001b[0m\u001b[0mjm\u001b[0m\u001b[0;34m]\u001b[0m \u001b[0;34m+\u001b[0m \u001b[0mfield\u001b[0m\u001b[0;34m[\u001b[0m\u001b[0mip\u001b[0m\u001b[0;34m]\u001b[0m\u001b[0;34m[\u001b[0m\u001b[0mj\u001b[0m\u001b[0;34m]\u001b[0m \u001b[0;34m+\u001b[0m \u001b[0mfield\u001b[0m\u001b[0;34m[\u001b[0m\u001b[0mim\u001b[0m\u001b[0;34m]\u001b[0m\u001b[0;34m[\u001b[0m\u001b[0mj\u001b[0m\u001b[0;34m]\u001b[0m\u001b[0;34m\u001b[0m\u001b[0;34m\u001b[0m\u001b[0m\n\u001b[0m\u001b[1;32m     17\u001b[0m         \u001b[0mforce\u001b[0m \u001b[0;34m=\u001b[0m \u001b[0mbeta\u001b[0m\u001b[0;34m*\u001b[0m\u001b[0;34m(\u001b[0m\u001b[0mforce\u001b[0m \u001b[0;34m+\u001b[0m \u001b[0mextfield\u001b[0m\u001b[0;34m)\u001b[0m\u001b[0;34m\u001b[0m\u001b[0;34m\u001b[0m\u001b[0m\n\u001b[1;32m     18\u001b[0m \u001b[0;34m\u001b[0m\u001b[0m\n",
      "\u001b[0;31mIndexError\u001b[0m: only integers, slices (`:`), ellipsis (`...`), numpy.newaxis (`None`) and integer or boolean arrays are valid indices"
     ]
    }
   ],
   "source": [
    "#-------------main------------------#\n",
    "nlatt = 10\n",
    "nvol = nlatt**2\n",
    "seed = 100\n",
    "beta = 0.3\n",
    "extfield = 0\n",
    "iflag = 0\n",
    "i_decorrel = 100\n",
    "measures = 100000\n",
    "\n",
    "field_start = np.empty((nlatt,nlatt))\n",
    "\n",
    "npp, nmm = geometry(nlatt, nvol)\n",
    "field = initialize_lattice(nlatt, nvol, iflag ,seed, field_start)\n",
    "\n",
    "#ma queste ultime operazioni si fanno per ogni valore di i (quindi xmagn[i], xene[i] ecc) o ci interessa solo l'ultimo valore?\n",
    "\n",
    "for i in range(measures):\n",
    "    for idec in range(i_decorrel):\n",
    "        field = update_metropolis(nlatt, nvol, field, npp, nmm, beta, extfield, seed)\n",
    "        idec = idec + 1\n",
    "    xmagn = magnetization(nlatt, nvol, field)\n",
    "    xene = energy(nlatt, nvol, field, npp, nmm, extfield)\n",
    "    i = i+1\n",
    "    \n",
    "xmagn, xene"
   ]
  },
  {
   "cell_type": "code",
   "execution_count": null,
   "id": "textile-offense",
   "metadata": {},
   "outputs": [],
   "source": []
  },
  {
   "cell_type": "code",
   "execution_count": null,
   "id": "split-hamburg",
   "metadata": {},
   "outputs": [],
   "source": []
  }
 ],
 "metadata": {
  "kernelspec": {
   "display_name": "Python 3",
   "language": "python",
   "name": "python3"
  },
  "language_info": {
   "codemirror_mode": {
    "name": "ipython",
    "version": 3
   },
   "file_extension": ".py",
   "mimetype": "text/x-python",
   "name": "python",
   "nbconvert_exporter": "python",
   "pygments_lexer": "ipython3",
   "version": "3.8.10"
  }
 },
 "nbformat": 4,
 "nbformat_minor": 5
}
